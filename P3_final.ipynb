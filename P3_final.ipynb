{
 "cells": [
  {
   "cell_type": "markdown",
   "metadata": {},
   "source": [
    "Projeto 3\n"
   ]
  },
  {
   "cell_type": "code",
   "execution_count": null,
   "metadata": {},
   "outputs": [],
   "source": [
    "import numpy as np\n",
    "from scipy.integrate import odeint\n",
    "import matplotlib.pyplot as plt\n",
    "import math\n",
    "def orbita(solucao, tempo):\n",
    "    vx = solucao[0]\n",
    "    vy = solucao[1]\n",
    "    x = solucao[2]\n",
    "    y = solucao[3]\n",
    "    \n",
    "    ft = (G*Mt*Mf)/(x**2 + y**2)\n",
    "    fl = (G*Ml*Mf)/((xl-x)**2 + (yl-y)**2)\n",
    "    cos0t = x/(math.sqrt(x**2 + y**2))\n",
    "    sen0t = y/(math.sqrt(x**2 + y**2))\n",
    "    cos0l = (xl-x)/(math.sqrt((xl-x)**2+ (yl-y)**2))\n",
    "    sen0l = (yl-y)/(math.sqrt((xl-x)**2 + (yl-y)**2))\n",
    "    dxdt = vx\n",
    "    dvxdt = (fl*cos0l - ft*cos0t)/Mf\n",
    "    dydt = vy\n",
    "    dvydt = (fl*sen0l - ft*sen0t)/Mf\n",
    "    return dvxdt,dvydt,dxdt,dydt\n",
    "g = 6.67\n",
    "gg = -11\n",
    "G = g*10**(gg)\n",
    "mt = 5.972\n",
    "mtt = 24\n",
    "Mt = mt*10**mtt\n",
    "ml = 7.36\n",
    "mll = 22\n",
    "Ml = ml*10**mll\n",
    "mff = 4\n",
    "Mf = 6*10**mff\n",
    "xll = 384.4\n",
    "xlll = 10**3\n",
    "xl = xll*xlll #distancia da lua ate a terra \n",
    "yl = 0    #eixo y entre a terra e a lua na horizontal\n",
    "#ci = [0,2.2, 15,0]\n",
    "ci = [0, 0 , xl/2, xl/2]\n",
    "tempo = np.arange(0, 200, 1)\n",
    "resultado = odeint(orbita, ci, tempo)\n",
    "plt.plot(resultado[:, 2], resultado[:, 3])\n",
    "plt.grid(True)\n",
    "plt.show()"
   ]
  },
  {
   "cell_type": "code",
   "execution_count": 17,
   "metadata": {},
   "outputs": [
    {
     "name": "stderr",
     "output_type": "stream",
     "text": [
      "/Users/celso/anaconda3/lib/python3.7/site-packages/scipy/integrate/odepack.py:236: ODEintWarning: Excess work done on this call (perhaps wrong Dfun type). Run with full_output = 1 to get quantitative information.\n",
      "  warnings.warn(warning_msg, ODEintWarning)\n"
     ]
    },
    {
     "data": {
      "image/png": "[encoded data removed]",
      "text/plain": [
       "<Figure size 432x288 with 1 Axes>"
      ]
     },
     "metadata": {
      "needs_background": "light"
     },
     "output_type": "display_data"
    }
   ],
   "source": []
  },
  {
   "cell_type": "code",
   "execution_count": null,
   "metadata": {},
   "outputs": [],
   "source": []
  }
 ],
 "metadata": {
  "kernelspec": {
   "display_name": "Python 3",
   "language": "python",
   "name": "python3"
  },
  "language_info": {
   "codemirror_mode": {
    "name": "ipython",
    "version": 3
   },
   "file_extension": ".py",
   "mimetype": "text/x-python",
   "name": "python",
   "nbconvert_exporter": "python",
   "pygments_lexer": "ipython3",
   "version": "3.7.0"
  }
 },
 "nbformat": 4,
 "nbformat_minor": 2
}
