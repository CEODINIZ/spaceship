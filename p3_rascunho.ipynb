{
 "cells": [
  {
   "cell_type": "code",
   "execution_count": 34,
   "metadata": {},
   "outputs": [],
   "source": [
    "import numpy as np\n",
    "from scipy.integrate import odeint\n",
    "import matplotlib.pyplot as plt\n",
    "import math"
   ]
  },
  {
   "cell_type": "code",
   "execution_count": 56,
   "metadata": {},
   "outputs": [],
   "source": [
    "ci = [0, 0 , xl/2, xl/2]\n",
    "g = 6.67\n",
    "gg = -11\n",
    "G = g*10**(gg) #n*m/kg\n",
    "mt = 5.972\n",
    "mtt = 24\n",
    "Mt = mt*10**mtt #kg\n",
    "ml = 7.36\n",
    "mll = 22\n",
    "Ml = ml*10**mll #kg\n",
    "mff = 4\n",
    "mfff = 6*10\n",
    "Mf = mfff**mff #kg\n",
    "xl = 0.001 #distancia da lua ate a terra AL\n",
    "yl = 0    #eixo y entre a terra e a lua na horizontal"
   ]
  },
  {
   "cell_type": "code",
   "execution_count": 57,
   "metadata": {},
   "outputs": [],
   "source": [
    "def orbita(solucao, tempo):\n",
    "    vx = solucao[0]\n",
    "    vy = solucao[1]\n",
    "    x = solucao[2]\n",
    "    y = solucao[3]\n",
    "    \n",
    "    ft_0 = (G*Mt*Mf)\n",
    "    ft_1 = (x**2+y**2)\n",
    "    ft_2 = ft_0/ft_1\n",
    "\n",
    "    fl_0 = (G*Ml*Mf)\n",
    "    fl_1 = (xl-x)**2 + (yl-y)**2\n",
    "    fl_2 = fl_0/(fl_1)    \n",
    "\n",
    "    cos0t_0 = math.sqrt(ft_1)\n",
    "    cos0t = x/cos0t_0\n",
    "    \n",
    "    sen0t_0 = math.sqrt(ft_1)\n",
    "    sen0t = y/sen0t_0\n",
    "\n",
    "    cos0l = (xl-x)/math.sqrt(fl_1)\n",
    "    sen0l = (yl-y)/math.sqrt(fl_1)\n",
    "\n",
    "    dxdt = vx\n",
    "    dvxdt = (fl_2*cos0l - ft_2*cos0t)/Mf\n",
    "    dydt = vy\n",
    "    dvydt = (fl_2*sen0l - ft_2*sen0t)/Mf\n",
    "    return dvxdt,dvydt,dxdt,dydt"
   ]
  },
  {
   "cell_type": "code",
   "execution_count": 58,
   "metadata": {},
   "outputs": [
    {
     "name": "stderr",
     "output_type": "stream",
     "text": [
      "/Users/celso/anaconda3/lib/python3.7/site-packages/scipy/integrate/odepack.py:236: ODEintWarning: Excess work done on this call (perhaps wrong Dfun type). Run with full_output = 1 to get quantitative information.\n",
      "  warnings.warn(warning_msg, ODEintWarning)\n"
     ]
    }
   ],
   "source": [
    "tempo = np.arange(0, 0.547, 0.0001)\n",
    "resultado = odeint(orbita, ci, tempo)"
   ]
  },
  {
   "cell_type": "code",
   "execution_count": 55,
   "metadata": {},
   "outputs": [
    {
     "data": {
      "image/png": "[encoded data removed]",
      "text/plain": [
       "<Figure size 432x288 with 1 Axes>"
      ]
     },
     "metadata": {
      "needs_background": "light"
     },
     "output_type": "display_data"
    }
   ],
   "source": [
    "plt.plot(resultado[:, 2], resultado[:, 3])\n",
    "plt.grid(True)\n",
    "plt.show()"
   ]
  },
  {
   "cell_type": "code",
   "execution_count": null,
   "metadata": {},
   "outputs": [],
   "source": []
  },
  {
   "cell_type": "code",
   "execution_count": null,
   "metadata": {},
   "outputs": [],
   "source": [
    "'''G = 6.67*10**(-11)\n",
    "Mt = 5.972*10**24\n",
    "Ml = 7.36*10**22\n",
    "Mf = 6*10**4\n",
    "xl = 0.001\n",
    "yl = 0'''"
   ]
  }
 ],
 "metadata": {
  "kernelspec": {
   "display_name": "Python 3",
   "language": "python",
   "name": "python3"
  },
  "language_info": {
   "codemirror_mode": {
    "name": "ipython",
    "version": 3
   },
   "file_extension": ".py",
   "mimetype": "text/x-python",
   "name": "python",
   "nbconvert_exporter": "python",
   "pygments_lexer": "ipython3",
   "version": "3.7.0"
  }
 },
 "nbformat": 4,
 "nbformat_minor": 2
}
